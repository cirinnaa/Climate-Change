{
  "nbformat": 4,
  "nbformat_minor": 0,
  "metadata": {
    "kernelspec": {
      "display_name": "Python 3",
      "language": "python",
      "name": "python3"
    },
    "language_info": {
      "codemirror_mode": {
        "name": "ipython",
        "version": 3
      },
      "file_extension": ".py",
      "mimetype": "text/x-python",
      "name": "python",
      "nbconvert_exporter": "python",
      "pygments_lexer": "ipython3",
      "version": "3.7.6"
    },
    "colab": {
      "name": "supp_exam_student_version-909-967-(1)-909.ipynb",
      "provenance": [],
      "collapsed_sections": [
        "WePp7GBC2bpb",
        "nr8h_SX62bpc",
        "LR0Rb1Fv2bpc",
        "1u-5Y5x72bpc",
        "ols2B5Zq2bpc",
        "W1QxIW7H2bpc"
      ],
      "include_colab_link": true
    }
  },
  "cells": [
    {
      "cell_type": "markdown",
      "metadata": {
        "id": "view-in-github",
        "colab_type": "text"
      },
      "source": [
        "<a href=\"https://colab.research.google.com/github/cirinnaa/Climate-Change/blob/master/supp_exam_student_version_909_967_(1)_909.ipynb\" target=\"_parent\"><img src=\"https://colab.research.google.com/assets/colab-badge.svg\" alt=\"Open In Colab\"/></a>"
      ]
    },
    {
      "cell_type": "markdown",
      "metadata": {
        "id": "AuTmU0nf2bpa"
      },
      "source": [
        "# Supplementary Analyse Exam"
      ]
    },
    {
      "cell_type": "markdown",
      "metadata": {
        "id": "siraHW6e2bpa"
      },
      "source": [
        "## Instructions to students"
      ]
    },
    {
      "cell_type": "markdown",
      "metadata": {
        "id": "51Lm0pFM2bpa"
      },
      "source": [
        "* **IMPOTANTLY: DO NOT ADD / REMOVE CELLS FROM THIS NOTEBOOK, AND DO NOT CHANGE THE NAMES OF THE FUNCTIONS REQUIRED FOR TESTING.**\n",
        "* This exam conists of 8 questions. Each question is independant on one another, and does require you to use functions built from previous questions. You can answer any question in any order you like.\n",
        "* Ensure that the answers to your questions do not contain `syntax` or `indentation` errors. Questions with these errors will break the autograder, and will mark the _**entire exam**_ as incorrect. The autograder will give you an error message if this is the case. Use this error message to correct the offending code, or comment it out before resubmitting.\n",
        "* You will be able to make _**multiple submissions**_ to the autograder. Use this ability to check whether a question you have answered is correct before proceeding to the next question.\n",
        "* Only place code in sections that contain the `# Your code here` comment.\n",
        "* We have provided some expected outputs for your code. Use these to determine whether your code is behaving as intended.\n",
        "* Some questions may have multiple requirements. It is possible to receive partial marks in these questions, so if you get stuck, try submitting to the autograder before moving on.\n",
        "\n",
        "**GOOD LUCK, and may the force be with you.**"
      ]
    },
    {
      "cell_type": "markdown",
      "metadata": {
        "id": "cp9G1mEu2bpa"
      },
      "source": [
        "## Section 1"
      ]
    },
    {
      "cell_type": "markdown",
      "metadata": {
        "id": "GJUO_GbL2bpa"
      },
      "source": [
        "### Question 1"
      ]
    },
    {
      "cell_type": "markdown",
      "metadata": {
        "id": "eXaAimEE2bpa"
      },
      "source": [
        "Write a function that converts a given string into \"txt spk\".\n",
        "\n",
        "The function should take as input a sentence (as `str`) and return as output the string but with all vowles and punctuation removed. For example:\n",
        "```python\n",
        "text_speech('Hello, World!') == 'Hll Wrld'\n",
        "```\n",
        "\n",
        "_**Function specfications:**_\n",
        "* Vowels are defined as any character in `aeiou`. Uppercase vowels should also be removed.\n",
        "* Punctuation is defined as any symbol in `.,!?;:`.\n",
        "* The function should return a `str` type.\n",
        "\n",
        "_**HINT:**_\n",
        "\n",
        "Try Googling \"How to delete a character in Python\" if you get stuck."
      ]
    },
    {
      "cell_type": "code",
      "metadata": {
        "id": "1-su8XUO2bpa"
      },
      "source": [
        "### START FUNCTION\n",
        "def text_speech(sentence):\n",
        "    vowel = ('a', 'e', 'i', 'o', 'u','A', 'E', 'I', 'O', 'U') \n",
        "    for x in sentence: \n",
        "        if x in vowel:\n",
        "            sentence = sentence.replace(x, '')\n",
        "    punc = (r'''!()-[]{};:'\"\\,<>./?@#$%^&*_~''') \n",
        "    for x in sentence: \n",
        "        if x in punc:\n",
        "            sentence = sentence.replace(x, '')\n",
        "                    \n",
        "    return sentence\n",
        "### END FUNCTION"
      ],
      "execution_count": null,
      "outputs": []
    },
    {
      "cell_type": "code",
      "metadata": {
        "colab": {
          "base_uri": "https://localhost:8080/",
          "height": 35
        },
        "id": "WjwxJ4Xp2bpa",
        "outputId": "9fea50e9-8744-49b5-a2a1-fca56091ef84"
      },
      "source": [
        "text_speech('This is not good English')"
      ],
      "execution_count": null,
      "outputs": [
        {
          "output_type": "execute_result",
          "data": {
            "application/vnd.google.colaboratory.intrinsic+json": {
              "type": "string"
            },
            "text/plain": [
              "'Ths s nt gd nglsh'"
            ]
          },
          "metadata": {
            "tags": []
          },
          "execution_count": 46
        }
      ]
    },
    {
      "cell_type": "markdown",
      "metadata": {
        "id": "A-D3hs_R2bpb"
      },
      "source": [
        "_**Expected Outputs:**_\n",
        "```python\n",
        "text_speech('Hello, World!') == 'Hll Wrld'\n",
        "text_speech('I talk funny') == ' tlk fnny'\n",
        "text_speech('This is not good English') == 'Ths s nt gd nglsh'\n",
        "```"
      ]
    },
    {
      "cell_type": "markdown",
      "metadata": {
        "id": "uBmCmQ1B3YmG"
      },
      "source": [
        ""
      ]
    },
    {
      "cell_type": "markdown",
      "metadata": {
        "id": "PwbQ9Rcr2bpb"
      },
      "source": [
        "### Question 2"
      ]
    },
    {
      "cell_type": "markdown",
      "metadata": {
        "id": "dqX5AsUF2bpb"
      },
      "source": [
        "The function below should sort the elements of the list in reverse order (highest to lowest) and return the first two elements of the list, however, it contains a number of errors. Uncomment the function, and correct the errors until the function yields the desired output.\n",
        "\n",
        "_**Hint:**_\n",
        "\n",
        "* Use the error messages python provides you to correct the function\n",
        "* To check whether the function is working, you can use the Athena autograder. _**Don't be afraid to submit multiple times to the autograder when checking whether your function works.**_\n",
        "\n",
        "_**Note:**_\n",
        "\n",
        "If this or any other function contains a syntax error, the autograder will mark the _**entire exam**_ as zero. If this is the case, please _comment out_ the question with the error."
      ]
    },
    {
      "cell_type": "code",
      "metadata": {
        "id": "3__jyDlk2bpb"
      },
      "source": [
        "### START FUNCTION\n",
        "def reverse_sort_slice_list(a):\n",
        "    output = []\n",
        "    output = sorted(a, reverse=True)\n",
        "    output = output[0:2]\n",
        "    return output\n",
        "### END FUNCTION"
      ],
      "execution_count": null,
      "outputs": []
    },
    {
      "cell_type": "code",
      "metadata": {
        "id": "xw6NlaRA2bpb",
        "colab": {
          "base_uri": "https://localhost:8080/"
        },
        "outputId": "627ae9ee-a069-4931-c59b-f716524b61fa"
      },
      "source": [
        "reverse_sort_slice_list([1, 5, 3, 2]) == [5, 3]"
      ],
      "execution_count": null,
      "outputs": [
        {
          "output_type": "execute_result",
          "data": {
            "text/plain": [
              "True"
            ]
          },
          "metadata": {
            "tags": []
          },
          "execution_count": 59
        }
      ]
    },
    {
      "cell_type": "markdown",
      "metadata": {
        "id": "be9dkr8C2bpb"
      },
      "source": [
        "_**Expected outputs:**_\n",
        "```python\n",
        "reverse_sort_slice_list([1, 5, 3, 2]) == [5, 3]\n",
        "reverse_sort_slice_list([-1, 3, -6, 7]) == [7, 3]\n",
        "reverse_sort_slice_list([2]) == [2]\n",
        "```"
      ]
    },
    {
      "cell_type": "markdown",
      "metadata": {
        "id": "CfqV8WR82bpb"
      },
      "source": [
        "## Section 2"
      ]
    },
    {
      "cell_type": "markdown",
      "metadata": {
        "id": "wsyhSQGP2bpb"
      },
      "source": [
        "You will require the use of the `numpy` and `pandas` packages in this section. Use them to answer the following questions."
      ]
    },
    {
      "cell_type": "code",
      "metadata": {
        "id": "VdHHOCoP2bpb"
      },
      "source": [
        "import numpy as np\n",
        "import pandas as pd"
      ],
      "execution_count": null,
      "outputs": []
    },
    {
      "cell_type": "markdown",
      "metadata": {
        "id": "WePp7GBC2bpb"
      },
      "source": [
        "### Question 3"
      ]
    },
    {
      "cell_type": "markdown",
      "metadata": {
        "id": "iJaeNKSv2bpb"
      },
      "source": [
        "Write a function which calculates the following math equation and round your answer to 2 decimal places.\n",
        "\n",
        "\\begin{equation}\n",
        " z = \\frac{\\pi e^{x^2}}{4y}\n",
        "\\end{equation}\n",
        "\n",
        "_**Function Specifications:**_\n",
        "* The input variables `x` and `y` are single values (that is, not a `list`/`array`)\n",
        "* If a division by zero occurs, raise a `ValueError`.\n",
        "* Output should be rounded to 2 decimal places."
      ]
    },
    {
      "cell_type": "code",
      "metadata": {
        "id": "2UKDQu1N2bpb"
      },
      "source": [
        "### START FUNCTION\n",
        "def custom_function(x,y):\n",
        "    \n",
        "    # Your code here\n",
        "    \n",
        "    return \n",
        "### END FUNCTION"
      ],
      "execution_count": null,
      "outputs": []
    },
    {
      "cell_type": "code",
      "metadata": {
        "colab": {
          "base_uri": "https://localhost:8080/"
        },
        "id": "ThXLAo292bpb",
        "outputId": "ba4c9f74-d05c-4902-ab70-0f92fc4d8740"
      },
      "source": [
        "custom_function(0.5, 7) == 0.14"
      ],
      "execution_count": null,
      "outputs": [
        {
          "output_type": "execute_result",
          "data": {
            "text/plain": [
              "False"
            ]
          },
          "metadata": {
            "tags": []
          },
          "execution_count": 9
        }
      ]
    },
    {
      "cell_type": "markdown",
      "metadata": {
        "id": "8-Z5ZFAY2bpb"
      },
      "source": [
        "_**Expected Outputs:**_\n",
        "```python\n",
        "custom_function(0.5, 7) == 0.14\n",
        "custom_function(0.5,0.01) == 100.85\n",
        "custom_function(0.1,0.3) == 2.64\n",
        "```"
      ]
    },
    {
      "cell_type": "markdown",
      "metadata": {
        "id": "RfJXhTkg2bpb"
      },
      "source": [
        "### Question 4"
      ]
    },
    {
      "cell_type": "markdown",
      "metadata": {
        "id": "pOlcXNgM2bpc"
      },
      "source": [
        "Given a Python list, calculate and return the difference between the second largest number and the second smallest number. Assume that the list contains two or more elements.\n",
        "\n",
        "_**Function Specifications:**_\n",
        "* The second largest / smallest must be different to the largest / smallest number in a list. That is:\n",
        "```python\n",
        "difference([10, 10, 10, 8, 5, 2, 1, 1, 1]) == 8 - 2 == 6\n",
        "```\n",
        "* Should take a `list` as input."
      ]
    },
    {
      "cell_type": "code",
      "metadata": {
        "id": "AbksTPSg2bpc"
      },
      "source": [
        "### START FUNCTION\n",
        "def difference(list1):\n",
        "   \n",
        "    mx=max(list1[0],list1[1]) \n",
        "    secondmax=min(list1[0],list1[1])   \n",
        "    n =len(list1)\n",
        "    for i in range(2,n): \n",
        "      if list1[i]>mx: \n",
        "        secondmax=mx\n",
        "        mx=list1[i] \n",
        "      elif list1[i]>secondmax and \\\n",
        "        mx != list1[i]: \n",
        "        secondmax=list1[i]\n",
        "\n",
        "    mn=min(list1[0],list1[1])    \n",
        "    secondmin=max(list1[0],list1[1])   \n",
        "    n =len(list1)\n",
        "    for i in range(-2,n): \n",
        "      if list1[i]<mn: \n",
        "        secondmin=mn\n",
        "        mn=list1[i] \n",
        "      elif list1[i]<secondmin and \\\n",
        "        mn != list1[i]: \n",
        "        secondmin=list1[i]\n",
        "      \n",
        "    return secondmax - secondmin\n",
        "### END FUNCTION"
      ],
      "execution_count": null,
      "outputs": []
    },
    {
      "cell_type": "code",
      "metadata": {
        "colab": {
          "base_uri": "https://localhost:8080/"
        },
        "id": "KXA2kn962bpc",
        "outputId": "c63af975-c0c1-4c80-b3ce-8662f7858713"
      },
      "source": [
        "difference([5,13,1,9,18]) == 8"
      ],
      "execution_count": null,
      "outputs": [
        {
          "output_type": "execute_result",
          "data": {
            "text/plain": [
              "True"
            ]
          },
          "metadata": {
            "tags": []
          },
          "execution_count": 51
        }
      ]
    },
    {
      "cell_type": "markdown",
      "metadata": {
        "id": "WeIJ3n4c2bpc"
      },
      "source": [
        "_**Expected Outputs:**_\n",
        "```python\n",
        "difference([1,2]) == -1\n",
        "difference([1,2,3,4]) == 1\n",
        "difference([5,13,1,9,18]) == 8\n",
        "```"
      ]
    },
    {
      "cell_type": "markdown",
      "metadata": {
        "id": "A93RbeV02bpc"
      },
      "source": [
        "### Question 5"
      ]
    },
    {
      "cell_type": "markdown",
      "metadata": {
        "id": "cQk0sQzu2bpc"
      },
      "source": [
        "Write a function that takes a list of numbers as an input and produces a report on the sample statistics of the list. The function should return a `dict` type object containing statistics of the list.\n",
        "\n",
        "_**Function Specifications:**_\n",
        "* Must take a `list` as input.\n",
        "* If the function does not receive a `list`, it must raise a `TypeError`.\n",
        "* If the length of the `list` is smaller than or equal to 1, raise a `ValueError`.\n",
        "* Function must return a `dict`, whose keys represent the sample statistics of the input with the following format:\n",
        "```python\n",
        "{\n",
        "    'mean': # mean of the input,\n",
        "    'std': # unbiased estimate of the standard deviation,\n",
        "    'min': # minimum of the input,\n",
        "    'median': # median of the input,\n",
        "    'max': # maximum of the input\n",
        "}\n",
        "```\n",
        "* If the input list contains multiple rows, the function should report on the mean/std/max/etc of each row in the form of a list.\n",
        "```python\n",
        "statistics([[1, 2], [3, 4]]) == {\n",
        "    'mean': [1.5, 3.5],\n",
        "    'std': [0.71, 0.71],\n",
        "    'min': [1, 3],\n",
        "    'median': [1.5, 3.5],\n",
        "    'max': [2, 4]\n",
        "}\n",
        "```\n",
        "* All numerical values should be rounded to 2 decimal places\n",
        "\n",
        "_**HINT:**_\n",
        "\n",
        "* Use `numpy` functions with the `axis` keyword.\n",
        "* When doing an unbiased estimate, try googling the `ddof` keyword, or refer to the train in Athena.\n",
        "* The `axis` keyword should be either `0`, `1`, or `-1`. One of these will work better than the other.\n",
        "* _You can get partial marks for this question if you only get part of it correct. Don't be afraid to submit to the autograder for marks if you are getting stuck._"
      ]
    },
    {
      "cell_type": "code",
      "metadata": {
        "id": "lomBsUxd2bpc"
      },
      "source": [
        "### START FUNCTION\n",
        "def statistics(x):\n",
        "    stats = list(x)\n",
        "\n",
        "    x = {'mean' : np.around(np.mean(stats),2),\n",
        "         'std' : np.around(np.std(stats, ddof = 1),2),\n",
        "         'min' : np.around(np.min(stats),2),\n",
        "         'median' : np.around(np.median(stats),2),      \n",
        "         'max' : np.around(np.max(stats),2)}\n",
        "    \n",
        "    \n",
        "    return x\n",
        "### END FUNCTION"
      ],
      "execution_count": null,
      "outputs": []
    },
    {
      "cell_type": "code",
      "metadata": {
        "id": "G9Bd71yz2bpc",
        "colab": {
          "base_uri": "https://localhost:8080/"
        },
        "outputId": "7c1456be-f425-4ad7-de89-219de951903d"
      },
      "source": [
        "statistics([1, 2, 2, 3, 4])"
      ],
      "execution_count": null,
      "outputs": [
        {
          "output_type": "execute_result",
          "data": {
            "text/plain": [
              "{'max': 4, 'mean': 2.4, 'median': 2.0, 'min': 1, 'std': 1.14}"
            ]
          },
          "metadata": {
            "tags": []
          },
          "execution_count": 65
        }
      ]
    },
    {
      "cell_type": "markdown",
      "metadata": {
        "id": "5MMhMoB02bpc"
      },
      "source": [
        "_**Expected Outputs:**_\n",
        "```python\n",
        "statistics([1, 1, 1, 1]) == {'mean': 1, 'std': 0, 'min': 1, 'median', 1, 'max': 1}\n",
        "statistics([1, 2, 2, 3, 4]) == {'mean': 2.4, 'std': 1.29, 'min': 1, 'median': 2.0, 'max': 4}\n",
        "statistics([[1, 2], [3, 4]]) == {\n",
        "    'mean': [1.5, 3.5],\n",
        "    'std': [0.71, 0.71],\n",
        "    'min': [1, 3],\n",
        "    'median': [1.5, 3.5],\n",
        "    'max': [2, 4]\n",
        "}\n",
        "```"
      ]
    },
    {
      "cell_type": "markdown",
      "metadata": {
        "id": "nr8h_SX62bpc"
      },
      "source": [
        "### Dataframes"
      ]
    },
    {
      "cell_type": "markdown",
      "metadata": {
        "id": "fJF5zmHY2bpc"
      },
      "source": [
        "You will need these dataframes in order to answer the following questions.\n",
        "\n",
        "_**DO NOT ALTER THESE DATAFRAMES AS DOING SO CAN LEAD TO A NEGATIVE MARK**_"
      ]
    },
    {
      "cell_type": "code",
      "metadata": {
        "id": "ts0UHJUq2bpc"
      },
      "source": [
        "country_map_df = pd.read_csv('https://raw.githubusercontent.com/Explore-AI/Public-Data/master/AnalyseProject/country_code_map.csv', index_col='Country Code')\n",
        "population_df = pd.read_csv('https://raw.githubusercontent.com/Explore-AI/Public-Data/master/AnalyseProject/world_population.csv', index_col='Country Code')\n",
        "meta_df = pd.read_csv('https://raw.githubusercontent.com/Explore-AI/Public-Data/master/AnalyseProject/metadata.csv', index_col='Country Code')"
      ],
      "execution_count": null,
      "outputs": []
    },
    {
      "cell_type": "markdown",
      "metadata": {
        "id": "nSZcJWmR2bpc"
      },
      "source": [
        "_**Dataframe specifications:**_\n",
        "\n",
        "The dataframes provide information about the population of the world for various years. Some things to note:\n",
        "* All dataframes have a `Country Code` as an index, which is a three letter code referring to a country.\n",
        "* The `country_map_df` data maps the `Country Code` to a `Country Name`.\n",
        "* The `population_df` data contains information on the population for a given country between the years of 1960 and 2017.\n",
        "* The `meta_df` data contains meta information about each country, including it's geographical region, it's income group, and a comment on the country as a whole."
      ]
    },
    {
      "cell_type": "code",
      "metadata": {
        "id": "yoJadHBe2bpc",
        "outputId": "d5dd3a79-2666-4e18-96d1-9d4c495a3f0d"
      },
      "source": [
        "country_map_df.head()"
      ],
      "execution_count": null,
      "outputs": [
        {
          "output_type": "execute_result",
          "data": {
            "text/html": [
              "<div>\n",
              "<style scoped>\n",
              "    .dataframe tbody tr th:only-of-type {\n",
              "        vertical-align: middle;\n",
              "    }\n",
              "\n",
              "    .dataframe tbody tr th {\n",
              "        vertical-align: top;\n",
              "    }\n",
              "\n",
              "    .dataframe thead th {\n",
              "        text-align: right;\n",
              "    }\n",
              "</style>\n",
              "<table border=\"1\" class=\"dataframe\">\n",
              "  <thead>\n",
              "    <tr style=\"text-align: right;\">\n",
              "      <th></th>\n",
              "      <th>Country Name</th>\n",
              "    </tr>\n",
              "    <tr>\n",
              "      <th>Country Code</th>\n",
              "      <th></th>\n",
              "    </tr>\n",
              "  </thead>\n",
              "  <tbody>\n",
              "    <tr>\n",
              "      <th>ABW</th>\n",
              "      <td>Aruba</td>\n",
              "    </tr>\n",
              "    <tr>\n",
              "      <th>AFG</th>\n",
              "      <td>Afghanistan</td>\n",
              "    </tr>\n",
              "    <tr>\n",
              "      <th>AGO</th>\n",
              "      <td>Angola</td>\n",
              "    </tr>\n",
              "    <tr>\n",
              "      <th>ALB</th>\n",
              "      <td>Albania</td>\n",
              "    </tr>\n",
              "    <tr>\n",
              "      <th>AND</th>\n",
              "      <td>Andorra</td>\n",
              "    </tr>\n",
              "  </tbody>\n",
              "</table>\n",
              "</div>"
            ],
            "text/plain": [
              "             Country Name\n",
              "Country Code             \n",
              "ABW                 Aruba\n",
              "AFG           Afghanistan\n",
              "AGO                Angola\n",
              "ALB               Albania\n",
              "AND               Andorra"
            ]
          },
          "metadata": {
            "tags": []
          },
          "execution_count": 19
        }
      ]
    },
    {
      "cell_type": "code",
      "metadata": {
        "id": "XZhaPam72bpc",
        "outputId": "5de0e8b0-a505-4650-f784-162d07411102"
      },
      "source": [
        "population_df.head()"
      ],
      "execution_count": null,
      "outputs": [
        {
          "output_type": "execute_result",
          "data": {
            "text/html": [
              "<div>\n",
              "<style scoped>\n",
              "    .dataframe tbody tr th:only-of-type {\n",
              "        vertical-align: middle;\n",
              "    }\n",
              "\n",
              "    .dataframe tbody tr th {\n",
              "        vertical-align: top;\n",
              "    }\n",
              "\n",
              "    .dataframe thead th {\n",
              "        text-align: right;\n",
              "    }\n",
              "</style>\n",
              "<table border=\"1\" class=\"dataframe\">\n",
              "  <thead>\n",
              "    <tr style=\"text-align: right;\">\n",
              "      <th></th>\n",
              "      <th>1960</th>\n",
              "      <th>1961</th>\n",
              "      <th>1962</th>\n",
              "      <th>1963</th>\n",
              "      <th>1964</th>\n",
              "      <th>1965</th>\n",
              "      <th>1966</th>\n",
              "      <th>1967</th>\n",
              "      <th>1968</th>\n",
              "      <th>1969</th>\n",
              "      <th>...</th>\n",
              "      <th>2008</th>\n",
              "      <th>2009</th>\n",
              "      <th>2010</th>\n",
              "      <th>2011</th>\n",
              "      <th>2012</th>\n",
              "      <th>2013</th>\n",
              "      <th>2014</th>\n",
              "      <th>2015</th>\n",
              "      <th>2016</th>\n",
              "      <th>2017</th>\n",
              "    </tr>\n",
              "    <tr>\n",
              "      <th>Country Code</th>\n",
              "      <th></th>\n",
              "      <th></th>\n",
              "      <th></th>\n",
              "      <th></th>\n",
              "      <th></th>\n",
              "      <th></th>\n",
              "      <th></th>\n",
              "      <th></th>\n",
              "      <th></th>\n",
              "      <th></th>\n",
              "      <th></th>\n",
              "      <th></th>\n",
              "      <th></th>\n",
              "      <th></th>\n",
              "      <th></th>\n",
              "      <th></th>\n",
              "      <th></th>\n",
              "      <th></th>\n",
              "      <th></th>\n",
              "      <th></th>\n",
              "      <th></th>\n",
              "    </tr>\n",
              "  </thead>\n",
              "  <tbody>\n",
              "    <tr>\n",
              "      <th>ABW</th>\n",
              "      <td>54211.0</td>\n",
              "      <td>55438.0</td>\n",
              "      <td>56225.0</td>\n",
              "      <td>56695.0</td>\n",
              "      <td>57032.0</td>\n",
              "      <td>57360.0</td>\n",
              "      <td>57715.0</td>\n",
              "      <td>58055.0</td>\n",
              "      <td>58386.0</td>\n",
              "      <td>58726.0</td>\n",
              "      <td>...</td>\n",
              "      <td>101353.0</td>\n",
              "      <td>101453.0</td>\n",
              "      <td>101669.0</td>\n",
              "      <td>102053.0</td>\n",
              "      <td>102577.0</td>\n",
              "      <td>103187.0</td>\n",
              "      <td>103795.0</td>\n",
              "      <td>104341.0</td>\n",
              "      <td>104822.0</td>\n",
              "      <td>105264.0</td>\n",
              "    </tr>\n",
              "    <tr>\n",
              "      <th>AFG</th>\n",
              "      <td>8996351.0</td>\n",
              "      <td>9166764.0</td>\n",
              "      <td>9345868.0</td>\n",
              "      <td>9533954.0</td>\n",
              "      <td>9731361.0</td>\n",
              "      <td>9938414.0</td>\n",
              "      <td>10152331.0</td>\n",
              "      <td>10372630.0</td>\n",
              "      <td>10604346.0</td>\n",
              "      <td>10854428.0</td>\n",
              "      <td>...</td>\n",
              "      <td>27294031.0</td>\n",
              "      <td>28004331.0</td>\n",
              "      <td>28803167.0</td>\n",
              "      <td>29708599.0</td>\n",
              "      <td>30696958.0</td>\n",
              "      <td>31731688.0</td>\n",
              "      <td>32758020.0</td>\n",
              "      <td>33736494.0</td>\n",
              "      <td>34656032.0</td>\n",
              "      <td>35530081.0</td>\n",
              "    </tr>\n",
              "    <tr>\n",
              "      <th>AGO</th>\n",
              "      <td>5643182.0</td>\n",
              "      <td>5753024.0</td>\n",
              "      <td>5866061.0</td>\n",
              "      <td>5980417.0</td>\n",
              "      <td>6093321.0</td>\n",
              "      <td>6203299.0</td>\n",
              "      <td>6309770.0</td>\n",
              "      <td>6414995.0</td>\n",
              "      <td>6523791.0</td>\n",
              "      <td>6642632.0</td>\n",
              "      <td>...</td>\n",
              "      <td>21759420.0</td>\n",
              "      <td>22549547.0</td>\n",
              "      <td>23369131.0</td>\n",
              "      <td>24218565.0</td>\n",
              "      <td>25096150.0</td>\n",
              "      <td>25998340.0</td>\n",
              "      <td>26920466.0</td>\n",
              "      <td>27859305.0</td>\n",
              "      <td>28813463.0</td>\n",
              "      <td>29784193.0</td>\n",
              "    </tr>\n",
              "    <tr>\n",
              "      <th>ALB</th>\n",
              "      <td>1608800.0</td>\n",
              "      <td>1659800.0</td>\n",
              "      <td>1711319.0</td>\n",
              "      <td>1762621.0</td>\n",
              "      <td>1814135.0</td>\n",
              "      <td>1864791.0</td>\n",
              "      <td>1914573.0</td>\n",
              "      <td>1965598.0</td>\n",
              "      <td>2022272.0</td>\n",
              "      <td>2081695.0</td>\n",
              "      <td>...</td>\n",
              "      <td>2947314.0</td>\n",
              "      <td>2927519.0</td>\n",
              "      <td>2913021.0</td>\n",
              "      <td>2905195.0</td>\n",
              "      <td>2900401.0</td>\n",
              "      <td>2895092.0</td>\n",
              "      <td>2889104.0</td>\n",
              "      <td>2880703.0</td>\n",
              "      <td>2876101.0</td>\n",
              "      <td>2873457.0</td>\n",
              "    </tr>\n",
              "    <tr>\n",
              "      <th>AND</th>\n",
              "      <td>13411.0</td>\n",
              "      <td>14375.0</td>\n",
              "      <td>15370.0</td>\n",
              "      <td>16412.0</td>\n",
              "      <td>17469.0</td>\n",
              "      <td>18549.0</td>\n",
              "      <td>19647.0</td>\n",
              "      <td>20758.0</td>\n",
              "      <td>21890.0</td>\n",
              "      <td>23058.0</td>\n",
              "      <td>...</td>\n",
              "      <td>83861.0</td>\n",
              "      <td>84462.0</td>\n",
              "      <td>84449.0</td>\n",
              "      <td>83751.0</td>\n",
              "      <td>82431.0</td>\n",
              "      <td>80788.0</td>\n",
              "      <td>79223.0</td>\n",
              "      <td>78014.0</td>\n",
              "      <td>77281.0</td>\n",
              "      <td>76965.0</td>\n",
              "    </tr>\n",
              "  </tbody>\n",
              "</table>\n",
              "<p>5 rows × 58 columns</p>\n",
              "</div>"
            ],
            "text/plain": [
              "                   1960       1961       1962       1963       1964  \\\n",
              "Country Code                                                          \n",
              "ABW             54211.0    55438.0    56225.0    56695.0    57032.0   \n",
              "AFG           8996351.0  9166764.0  9345868.0  9533954.0  9731361.0   \n",
              "AGO           5643182.0  5753024.0  5866061.0  5980417.0  6093321.0   \n",
              "ALB           1608800.0  1659800.0  1711319.0  1762621.0  1814135.0   \n",
              "AND             13411.0    14375.0    15370.0    16412.0    17469.0   \n",
              "\n",
              "                   1965        1966        1967        1968        1969  \\\n",
              "Country Code                                                              \n",
              "ABW             57360.0     57715.0     58055.0     58386.0     58726.0   \n",
              "AFG           9938414.0  10152331.0  10372630.0  10604346.0  10854428.0   \n",
              "AGO           6203299.0   6309770.0   6414995.0   6523791.0   6642632.0   \n",
              "ALB           1864791.0   1914573.0   1965598.0   2022272.0   2081695.0   \n",
              "AND             18549.0     19647.0     20758.0     21890.0     23058.0   \n",
              "\n",
              "                 ...            2008        2009        2010        2011  \\\n",
              "Country Code     ...                                                       \n",
              "ABW              ...        101353.0    101453.0    101669.0    102053.0   \n",
              "AFG              ...      27294031.0  28004331.0  28803167.0  29708599.0   \n",
              "AGO              ...      21759420.0  22549547.0  23369131.0  24218565.0   \n",
              "ALB              ...       2947314.0   2927519.0   2913021.0   2905195.0   \n",
              "AND              ...         83861.0     84462.0     84449.0     83751.0   \n",
              "\n",
              "                    2012        2013        2014        2015        2016  \\\n",
              "Country Code                                                               \n",
              "ABW             102577.0    103187.0    103795.0    104341.0    104822.0   \n",
              "AFG           30696958.0  31731688.0  32758020.0  33736494.0  34656032.0   \n",
              "AGO           25096150.0  25998340.0  26920466.0  27859305.0  28813463.0   \n",
              "ALB            2900401.0   2895092.0   2889104.0   2880703.0   2876101.0   \n",
              "AND              82431.0     80788.0     79223.0     78014.0     77281.0   \n",
              "\n",
              "                    2017  \n",
              "Country Code              \n",
              "ABW             105264.0  \n",
              "AFG           35530081.0  \n",
              "AGO           29784193.0  \n",
              "ALB            2873457.0  \n",
              "AND              76965.0  \n",
              "\n",
              "[5 rows x 58 columns]"
            ]
          },
          "metadata": {
            "tags": []
          },
          "execution_count": 20
        }
      ]
    },
    {
      "cell_type": "code",
      "metadata": {
        "id": "IoNzRR6A2bpc",
        "outputId": "657a4132-a0d9-4bb8-829a-a0151d8d680a"
      },
      "source": [
        "meta_df.head()"
      ],
      "execution_count": null,
      "outputs": [
        {
          "output_type": "execute_result",
          "data": {
            "text/html": [
              "<div>\n",
              "<style scoped>\n",
              "    .dataframe tbody tr th:only-of-type {\n",
              "        vertical-align: middle;\n",
              "    }\n",
              "\n",
              "    .dataframe tbody tr th {\n",
              "        vertical-align: top;\n",
              "    }\n",
              "\n",
              "    .dataframe thead th {\n",
              "        text-align: right;\n",
              "    }\n",
              "</style>\n",
              "<table border=\"1\" class=\"dataframe\">\n",
              "  <thead>\n",
              "    <tr style=\"text-align: right;\">\n",
              "      <th></th>\n",
              "      <th>Region</th>\n",
              "      <th>Income Group</th>\n",
              "      <th>Special Notes</th>\n",
              "    </tr>\n",
              "    <tr>\n",
              "      <th>Country Code</th>\n",
              "      <th></th>\n",
              "      <th></th>\n",
              "      <th></th>\n",
              "    </tr>\n",
              "  </thead>\n",
              "  <tbody>\n",
              "    <tr>\n",
              "      <th>ABW</th>\n",
              "      <td>Latin America &amp; Caribbean</td>\n",
              "      <td>High income</td>\n",
              "      <td>Mining is included in agriculture\\r\\r\\r\\nElect...</td>\n",
              "    </tr>\n",
              "    <tr>\n",
              "      <th>AFG</th>\n",
              "      <td>South Asia</td>\n",
              "      <td>Low income</td>\n",
              "      <td>Fiscal year end: March 20; reporting period fo...</td>\n",
              "    </tr>\n",
              "    <tr>\n",
              "      <th>AGO</th>\n",
              "      <td>Sub-Saharan Africa</td>\n",
              "      <td>Lower middle income</td>\n",
              "      <td>NaN</td>\n",
              "    </tr>\n",
              "    <tr>\n",
              "      <th>ALB</th>\n",
              "      <td>Europe &amp; Central Asia</td>\n",
              "      <td>Upper middle income</td>\n",
              "      <td>NaN</td>\n",
              "    </tr>\n",
              "    <tr>\n",
              "      <th>AND</th>\n",
              "      <td>Europe &amp; Central Asia</td>\n",
              "      <td>High income</td>\n",
              "      <td>WB-3 code changed from ADO to AND to align wit...</td>\n",
              "    </tr>\n",
              "  </tbody>\n",
              "</table>\n",
              "</div>"
            ],
            "text/plain": [
              "                                 Region         Income Group  \\\n",
              "Country Code                                                   \n",
              "ABW           Latin America & Caribbean          High income   \n",
              "AFG                          South Asia           Low income   \n",
              "AGO                  Sub-Saharan Africa  Lower middle income   \n",
              "ALB               Europe & Central Asia  Upper middle income   \n",
              "AND               Europe & Central Asia          High income   \n",
              "\n",
              "                                                  Special Notes  \n",
              "Country Code                                                     \n",
              "ABW           Mining is included in agriculture\\r\\r\\r\\nElect...  \n",
              "AFG           Fiscal year end: March 20; reporting period fo...  \n",
              "AGO                                                         NaN  \n",
              "ALB                                                         NaN  \n",
              "AND           WB-3 code changed from ADO to AND to align wit...  "
            ]
          },
          "metadata": {
            "tags": []
          },
          "execution_count": 21
        }
      ]
    },
    {
      "cell_type": "markdown",
      "metadata": {
        "id": "6ouOnqQ_2bpc"
      },
      "source": [
        "Using this information, answer the questions below:"
      ]
    },
    {
      "cell_type": "markdown",
      "metadata": {
        "id": "LR0Rb1Fv2bpc"
      },
      "source": [
        "### Question 6"
      ]
    },
    {
      "cell_type": "markdown",
      "metadata": {
        "id": "nArbijg-2bpc"
      },
      "source": [
        "Write a function that returns the population for a given year and country name.\n",
        "\n",
        "_**Function Specifications:**_\n",
        "* The function should take in a year as `int` and a country name as a `str` as inputs.\n",
        "* The function should return an `int`.\n",
        "\n",
        "_**Note:**_\n",
        "* Column references should be a `str` type. This is relevant when referring to the years in the `population_df` table."
      ]
    },
    {
      "cell_type": "code",
      "metadata": {
        "id": "Pd_l5IxA2bpc"
      },
      "source": [
        "### START FUNCTION\n",
        "def population_by_country_year(country_name, year):\n",
        "    \n",
        "    # Your code here\n",
        "    \n",
        "    return\n",
        "### END FUNCTION"
      ],
      "execution_count": null,
      "outputs": []
    },
    {
      "cell_type": "code",
      "metadata": {
        "id": "zHr-agNX2bpc"
      },
      "source": [
        "population_by_country_year('Algeria', 2015) == 39871528"
      ],
      "execution_count": null,
      "outputs": []
    },
    {
      "cell_type": "markdown",
      "metadata": {
        "id": "YFpsmZ1H2bpc"
      },
      "source": [
        "_**Expected Outputs:**_\n",
        "```python\n",
        "population_by_country_year('South Africa', 1960) == 17456855\n",
        "population_by_country_year('Canada', 2012) == 34750545\n",
        "population_by_country_year('Algeria', 2015) == 39871528\n",
        "```"
      ]
    },
    {
      "cell_type": "markdown",
      "metadata": {
        "id": "1u-5Y5x72bpc"
      },
      "source": [
        "### Question 7"
      ]
    },
    {
      "cell_type": "markdown",
      "metadata": {
        "id": "LOcCqCm92bpc"
      },
      "source": [
        "Write a function that returns the summed population total in each geographic region for a given year.\n",
        "\n",
        "_**Function Specifications:**_\n",
        "* Should take as input a year as an `int`.\n",
        "* Should have `Region` as the index.\n",
        "* Should return a `DataFrame`, NOT a `Series`."
      ]
    },
    {
      "cell_type": "code",
      "metadata": {
        "id": "5NU5g8F72bpc"
      },
      "source": [
        "### START FUNCTION\n",
        "def total_pop_in_region(year):\n",
        "    \n",
        "    # Your code here\n",
        "    \n",
        "    return\n",
        "### END FUNCTION"
      ],
      "execution_count": null,
      "outputs": []
    },
    {
      "cell_type": "code",
      "metadata": {
        "id": "Q9eo7vAn2bpc"
      },
      "source": [
        "total_pop_in_region(1960)"
      ],
      "execution_count": null,
      "outputs": []
    },
    {
      "cell_type": "markdown",
      "metadata": {
        "id": "LaHOvZIx2bpc"
      },
      "source": [
        "_**Expected Outputs:**_\n",
        "```python\n",
        "total_pop_in_region(1960)\n",
        "```\n",
        "> <table class=\"dataframe\" border=\"1\">\n",
        "  <thead>\n",
        "    <tr style=\"text-align: right;\">\n",
        "      <th></th>\n",
        "      <th>1960</th>\n",
        "    </tr>\n",
        "    <tr>\n",
        "      <th>Region</th>\n",
        "      <th></th>\n",
        "    </tr>\n",
        "  </thead>\n",
        "  <tbody>\n",
        "    <tr>\n",
        "      <th>East Asia &amp; Pacific</th>\n",
        "      <td>1.029333e+09</td>\n",
        "    </tr>\n",
        "    <tr>\n",
        "      <th>Europe &amp; Central Asia</th>\n",
        "      <td>6.606384e+08</td>\n",
        "    </tr>\n",
        "    <tr>\n",
        "      <th>Latin America &amp; Caribbean</th>\n",
        "      <td>2.204347e+08</td>\n",
        "    </tr>\n",
        "    <tr>\n",
        "      <th>Middle East &amp; North Africa</th>\n",
        "      <td>1.054887e+08</td>\n",
        "    </tr>\n",
        "    <tr>\n",
        "      <th>North America</th>\n",
        "      <td>1.986244e+08</td>\n",
        "    </tr>\n",
        "    <tr>\n",
        "      <th>South Asia</th>\n",
        "      <td>5.718357e+08</td>\n",
        "    </tr>\n",
        "    <tr>\n",
        "      <th>Sub-Saharan Africa</th>\n",
        "      <td>2.285860e+08</td>\n",
        "    </tr>\n",
        "  </tbody>\n",
        "</table>\n",
        "\n",
        "```python\n",
        "total_pop_in_region(2016)\n",
        "```\n",
        "> <table class=\"dataframe\" border=\"1\">\n",
        "  <thead>\n",
        "    <tr style=\"text-align: right;\">\n",
        "      <th></th>\n",
        "      <th>2016</th>\n",
        "    </tr>\n",
        "    <tr>\n",
        "      <th>Region</th>\n",
        "      <th></th>\n",
        "    </tr>\n",
        "  </thead>\n",
        "  <tbody>\n",
        "    <tr>\n",
        "      <th>East Asia &amp; Pacific</th>\n",
        "      <td>2.275219e+09</td>\n",
        "    </tr>\n",
        "    <tr>\n",
        "      <th>Europe &amp; Central Asia</th>\n",
        "      <td>9.116863e+08</td>\n",
        "    </tr>\n",
        "    <tr>\n",
        "      <th>Latin America &amp; Caribbean</th>\n",
        "      <td>6.376639e+08</td>\n",
        "    </tr>\n",
        "    <tr>\n",
        "      <th>Middle East &amp; North Africa</th>\n",
        "      <td>4.367380e+08</td>\n",
        "    </tr>\n",
        "    <tr>\n",
        "      <th>North America</th>\n",
        "      <td>3.597359e+08</td>\n",
        "    </tr>\n",
        "    <tr>\n",
        "      <th>South Asia</th>\n",
        "      <td>1.766394e+09</td>\n",
        "    </tr>\n",
        "    <tr>\n",
        "      <th>Sub-Saharan Africa</th>\n",
        "      <td>1.028258e+09</td>\n",
        "    </tr>\n",
        "  </tbody>\n",
        "</table>"
      ]
    },
    {
      "cell_type": "markdown",
      "metadata": {
        "id": "myOI5T2j2bpc"
      },
      "source": [
        "## Section 3"
      ]
    },
    {
      "cell_type": "markdown",
      "metadata": {
        "id": "ols2B5Zq2bpc"
      },
      "source": [
        "### Question 8.1"
      ]
    },
    {
      "cell_type": "markdown",
      "metadata": {
        "id": "ayHVVPOB2bpc"
      },
      "source": [
        "Write a function that returns the global yearly population `Growth`, grouped by the `Income Group` and `Year`.\n",
        "\n",
        "_**Function Specifications**_\n",
        "* Should not take any inputs.\n",
        "* The years are currently presented as the heading of each row in the population table. The table will have to be melted to produce the appropriate format. You can use `df.melt` to do this, where the variable name should be `Year` and the value name should be `Growth`.\n",
        "* Should group by the `Year` and `Income Group`.\n",
        "* Should only have one column named `Growth`.\n",
        "* The `Income Group` and the `Year` should be indices.\n",
        "* The `Growth` is calculated by taking the yearly difference and dividing it by the total population for each year, multiplied by 100.\n",
        "* Should return a `DataFrame`."
      ]
    },
    {
      "cell_type": "code",
      "metadata": {
        "id": "m3Z3RMCE2bpc"
      },
      "source": [
        "### START FUNCTION\n",
        "def population_difference_by_income():\n",
        "    \n",
        "    # Your code here\n",
        "    \n",
        "    return\n",
        "### END FUNCTION"
      ],
      "execution_count": null,
      "outputs": []
    },
    {
      "cell_type": "code",
      "metadata": {
        "id": "XLhYJTUR2bpc"
      },
      "source": [
        "population_difference_by_income().head()"
      ],
      "execution_count": null,
      "outputs": []
    },
    {
      "cell_type": "markdown",
      "metadata": {
        "id": "ah8n466v2bpc"
      },
      "source": [
        "_**Expected Output:**_\n",
        "```python\n",
        "population_difference_by_income().head()\n",
        "```\n",
        "> <table class=\"dataframe\" border=\"1\">\n",
        "  <thead>\n",
        "    <tr style=\"text-align: right;\">\n",
        "      <th></th>\n",
        "      <th></th>\n",
        "      <th>Growth</th>\n",
        "    </tr>\n",
        "    <tr>\n",
        "      <th>Income Group</th>\n",
        "      <th>Year</th>\n",
        "      <th></th>\n",
        "    </tr>\n",
        "  </thead>\n",
        "  <tbody>\n",
        "    <tr>\n",
        "      <th rowspan=\"5\" valign=\"top\">High income</th>\n",
        "      <th>1960</th>\n",
        "      <td>NaN</td>\n",
        "    </tr>\n",
        "    <tr>\n",
        "      <th>1961</th>\n",
        "      <td>1.450978</td>\n",
        "    </tr>\n",
        "    <tr>\n",
        "      <th>1962</th>\n",
        "      <td>1.261630</td>\n",
        "    </tr>\n",
        "    <tr>\n",
        "      <th>1963</th>\n",
        "      <td>1.235893</td>\n",
        "    </tr>\n",
        "    <tr>\n",
        "      <th>1964</th>\n",
        "      <td>1.207633</td>\n",
        "    </tr>\n",
        "  </tbody>\n",
        "</table>"
      ]
    },
    {
      "cell_type": "markdown",
      "metadata": {
        "id": "W1QxIW7H2bpc"
      },
      "source": [
        "### Question 8.2"
      ]
    },
    {
      "cell_type": "markdown",
      "metadata": {
        "id": "vokTf3G82bpc"
      },
      "source": [
        "Using the function you just created, write a function that returns the average population _growth_ over all years for a given income group. \n",
        "\n",
        "_**Function Specifications:**_\n",
        "* Should take as input a `str` as the income group.\n",
        "* Should raise a `ValueError` if the input is not a valid income group.\n",
        "* Should return a `float`, rounded to 2 decimal places."
      ]
    },
    {
      "cell_type": "code",
      "metadata": {
        "id": "kYRKeVJ42bpc"
      },
      "source": [
        "### START FUNCTION\n",
        "def ave_growth_by_income(income_group):\n",
        "    \n",
        "    # Your code here\n",
        "    \n",
        "    return \n",
        "### END FUNCTION"
      ],
      "execution_count": null,
      "outputs": []
    },
    {
      "cell_type": "code",
      "metadata": {
        "id": "pu6cPlaF2bpc"
      },
      "source": [
        "ave_growth_by_income('Low income') == -8.46"
      ],
      "execution_count": null,
      "outputs": []
    },
    {
      "cell_type": "markdown",
      "metadata": {
        "id": "enI5NZ8G2bpc"
      },
      "source": [
        "_**Expected Outputs:**_\n",
        "```python\n",
        "ave_growth_by_income('High income') == 0.81\n",
        "ave_growth_by_income('Low income') == -8.46\n",
        "```"
      ]
    },
    {
      "cell_type": "code",
      "metadata": {
        "id": "SN7O9VwZ2bpc"
      },
      "source": [
        ""
      ],
      "execution_count": null,
      "outputs": []
    }
  ]
}